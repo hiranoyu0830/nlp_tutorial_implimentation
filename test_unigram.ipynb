{
  "nbformat": 4,
  "nbformat_minor": 0,
  "metadata": {
    "colab": {
      "name": "test-unigram.ipynb",
      "provenance": [],
      "mount_file_id": "150dVW-BBxif5ecaF4sLWUNw07tA7-ofB",
      "authorship_tag": "ABX9TyO09w43TbHSMLDPPuxgMRBL",
      "include_colab_link": true
    },
    "kernelspec": {
      "name": "python3",
      "display_name": "Python 3"
    },
    "language_info": {
      "name": "python"
    }
  },
  "cells": [
    {
      "cell_type": "markdown",
      "metadata": {
        "id": "view-in-github",
        "colab_type": "text"
      },
      "source": [
        "<a href=\"https://colab.research.google.com/github/hiranoyu0830/nlp_tutorial_implimentation/blob/main/test_unigram.ipynb\" target=\"_parent\"><img src=\"https://colab.research.google.com/assets/colab-badge.svg\" alt=\"Open In Colab\"/></a>"
      ]
    },
    {
      "cell_type": "code",
      "source": [
        "from collections import defaultdict\n",
        "import math\n",
        "path1 = 'drive/MyDrive/Colab Notebooks/nlptutorial/data/wiki-en-test.word'\n",
        "path2 = 'drive/MyDrive/Colab Notebooks/nlp01/model_file.txt'\n",
        "\n",
        "L1 = 0.95\n",
        "L2 = 1 - L1 \n",
        "V = 1000000\n",
        "W = 0\n",
        "H = 0\n",
        "unk = 0"
      ],
      "metadata": {
        "id": "B9DUrHpOYD3R"
      },
      "execution_count": 1,
      "outputs": []
    },
    {
      "cell_type": "code",
      "source": [
        "prob = dict()\n",
        "f1 = open(path1)\n",
        "f2 = open(path2)\n",
        "\n",
        "for line in f2:\n",
        "  line = line.split(\" \")\n",
        "  w = line[0]\n",
        "  P = line[-1]\n",
        "  prob[w] = P\n",
        "#print(prob)"
      ],
      "metadata": {
        "id": "OFocBeOGYUan"
      },
      "execution_count": null,
      "outputs": []
    },
    {
      "cell_type": "code",
      "source": [
        "for line in f1:\n",
        "  words = line.split(\" \")\n",
        "  words.append(\"</s>\")\n",
        "  for word in words:\n",
        "    W += 1\n",
        "    P = L2 / V\n",
        "    if word in prob.keys():\n",
        "      P = P + float(prob[w]) * L1\n",
        "    else:\n",
        "      unk += 1\n",
        "    H -=  math.log(P, 2)\n",
        "#print(P)"
      ],
      "metadata": {
        "id": "c5I7P3y7rqZ2"
      },
      "execution_count": null,
      "outputs": []
    },
    {
      "cell_type": "code",
      "source": [
        "E = abs(H) / W\n",
        "C = abs(W-unk) / W\n",
        "print(\"entropy = %r\"% (E))\n",
        "print(\"coverage = %r\"% (C))"
      ],
      "metadata": {
        "colab": {
          "base_uri": "https://localhost:8080/"
        },
        "id": "Dg02iEfR-osn",
        "outputId": "e6b0663a-af61-418c-d32a-d9fb8fcc7ba8"
      },
      "execution_count": 16,
      "outputs": [
        {
          "output_type": "stream",
          "name": "stdout",
          "text": [
            "entropy = 15.190798033827235\n",
            "coverage = 1.0\n"
          ]
        }
      ]
    }
  ]
}