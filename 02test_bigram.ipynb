{
  "nbformat": 4,
  "nbformat_minor": 0,
  "metadata": {
    "colab": {
      "name": "02test-bigram.ipynb",
      "provenance": [],
      "collapsed_sections": [],
      "mount_file_id": "18-YzeGnEF8_bTZEeXEYX0KkTjNxMhIdF",
      "authorship_tag": "ABX9TyNvwQpI22+cEZo9FNgQwQrp",
      "include_colab_link": true
    },
    "kernelspec": {
      "name": "python3",
      "display_name": "Python 3"
    },
    "language_info": {
      "name": "python"
    }
  },
  "cells": [
    {
      "cell_type": "markdown",
      "metadata": {
        "id": "view-in-github",
        "colab_type": "text"
      },
      "source": [
        "<a href=\"https://colab.research.google.com/github/hiranoyu0830/nlp_tutorial_implimentation/blob/main/02test_bigram.ipynb\" target=\"_parent\"><img src=\"https://colab.research.google.com/assets/colab-badge.svg\" alt=\"Open In Colab\"/></a>"
      ]
    },
    {
      "cell_type": "code",
      "source": [
        "import math\n",
        "from collections import defaultdict"
      ],
      "metadata": {
        "id": "jNdpTYlzjUok"
      },
      "execution_count": 1,
      "outputs": []
    },
    {
      "cell_type": "code",
      "execution_count": 2,
      "metadata": {
        "id": "mty1V39K5C2g"
      },
      "outputs": [],
      "source": [
        "L1 = 0.90\n",
        "L2 = 0.90\n",
        "V = 1000000\n",
        "W = 0\n",
        "H = 0\n",
        "\n",
        "path1 = 'drive/MyDrive/Colab Notebooks/nlp02/model_file2.txt'\n",
        "path2 = 'drive/MyDrive/Colab Notebooks/nlptutorial/test/02-train-input.txt'"
      ]
    },
    {
      "cell_type": "code",
      "source": [
        "f1 = open(path1)\n",
        "f2 = open(path2)\n",
        "\n",
        "prob = defaultdict(lambda: 0)\n",
        "for line in f1:\n",
        "  words = line.split(\" \")\n",
        "  w1 = \" \".join(words[:-1])\n",
        "  prob[w1] = words[-1]\n",
        "  #print(w1)\n",
        "  "
      ],
      "metadata": {
        "id": "DUxPF6Yu5YtW"
      },
      "execution_count": 3,
      "outputs": []
    },
    {
      "cell_type": "code",
      "source": [
        "for line in f2:\n",
        "  w2 = line.split(\" \")\n",
        "  w2.append(\"</s>\")\n",
        "  w2.insert(0, \"<s>\")\n",
        "  #print(w2)\n",
        "\n",
        "  for i in range(1,len(w2)):\n",
        "    \n",
        "    p1 = L1*float(prob[w2[i]]) + (1-L1)/float(V)\n",
        "    p2 = L2*prob[w2[i-1]+\" \"+w2[i]] + (1-L2)*p1\n",
        "    H += -math.log(p2, 2)\n",
        "    W += 1\n",
        "    #print(W)"
      ],
      "metadata": {
        "id": "U-O_xTVEiWlj"
      },
      "execution_count": null,
      "outputs": []
    },
    {
      "cell_type": "code",
      "source": [
        "print(\"entropy = %r\"% (abs(H/W)))\n",
        "f1.close()\n",
        "f2.close()"
      ],
      "metadata": {
        "colab": {
          "base_uri": "https://localhost:8080/"
        },
        "id": "MeOf3NHhjf9L",
        "outputId": "df6a90a4-e88e-4927-d6bc-44e721bfc648"
      },
      "execution_count": 5,
      "outputs": [
        {
          "output_type": "stream",
          "name": "stdout",
          "text": [
            "entropy = 15.590875471627283\n"
          ]
        }
      ]
    }
  ]
}