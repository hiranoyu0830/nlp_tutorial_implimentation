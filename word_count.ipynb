{
  "nbformat": 4,
  "nbformat_minor": 0,
  "metadata": {
    "colab": {
      "name": "word-count.ipynb",
      "provenance": [],
      "collapsed_sections": [],
      "mount_file_id": "1sQxjyb2pF_P-Y6e2SMTVxk4hfZFDlaxC",
      "authorship_tag": "ABX9TyPWa0jYrqepOCt7waEwp6Zx",
      "include_colab_link": true
    },
    "kernelspec": {
      "name": "python3",
      "display_name": "Python 3"
    },
    "language_info": {
      "name": "python"
    }
  },
  "cells": [
    {
      "cell_type": "markdown",
      "metadata": {
        "id": "view-in-github",
        "colab_type": "text"
      },
      "source": [
        "<a href=\"https://colab.research.google.com/github/hiranoyu0830/nlp_tutorial_implimentation/blob/main/word_count.ipynb\" target=\"_parent\"><img src=\"https://colab.research.google.com/assets/colab-badge.svg\" alt=\"Open In Colab\"/></a>"
      ]
    },
    {
      "cell_type": "code",
      "source": [
        "#%cd \n",
        "#!pwd"
      ],
      "metadata": {
        "id": "bbdzC9Bm03oU"
      },
      "execution_count": null,
      "outputs": []
    },
    {
      "cell_type": "code",
      "execution_count": null,
      "metadata": {
        "id": "kjMEKWNEr2VY"
      },
      "outputs": [],
      "source": [
        "from collections import defaultdict\n",
        "\n",
        "path = 'nlptutorial/data/wiki-en-train.word'\n",
        "\n",
        "cnt = defaultdict(lambda: 0)"
      ]
    },
    {
      "cell_type": "code",
      "source": [
        "f = open(path)\n",
        "\n",
        "for line in f:\n",
        "  words = line.split(\" \")\n",
        "  for w in words:\n",
        "    if w in cnt.keys():\n",
        "      cnt[w] += 1\n",
        "    else:\n",
        "      cnt[w] = 1\n",
        "for word, freq in sorted(cnt.items()):\n",
        "  print(\"%s %r\"% (word, freq))\n",
        "\n",
        "f.close()"
      ],
      "metadata": {
        "id": "mml28fu9x1J8"
      },
      "execution_count": null,
      "outputs": []
    }
  ]
}