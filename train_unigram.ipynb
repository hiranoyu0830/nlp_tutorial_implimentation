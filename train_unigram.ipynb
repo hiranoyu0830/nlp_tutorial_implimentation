{
  "nbformat": 4,
  "nbformat_minor": 0,
  "metadata": {
    "colab": {
      "name": "train-unigram.ipynb",
      "provenance": [],
      "collapsed_sections": [],
      "mount_file_id": "12v5dxXZn0_mbUrIWkxhXDM_LMmsmlbZW",
      "authorship_tag": "ABX9TyOikjmfRO0iuKPH5d8F2+6U",
      "include_colab_link": true
    },
    "kernelspec": {
      "name": "python3",
      "display_name": "Python 3"
    },
    "language_info": {
      "name": "python"
    }
  },
  "cells": [
    {
      "cell_type": "markdown",
      "metadata": {
        "id": "view-in-github",
        "colab_type": "text"
      },
      "source": [
        "<a href=\"https://colab.research.google.com/github/hiranoyu0830/nlp_tutorial_implimentation/blob/main/train_unigram.ipynb\" target=\"_parent\"><img src=\"https://colab.research.google.com/assets/colab-badge.svg\" alt=\"Open In Colab\"/></a>"
      ]
    },
    {
      "cell_type": "code",
      "source": [
        "!ls"
      ],
      "metadata": {
        "id": "x-7uKM_mLCSA",
        "colab": {
          "base_uri": "https://localhost:8080/"
        },
        "outputId": "0e339da5-ce5d-47e6-fc8b-5a26edba3482"
      },
      "execution_count": 9,
      "outputs": [
        {
          "output_type": "stream",
          "name": "stdout",
          "text": [
            "drive  sample_data\n"
          ]
        }
      ]
    },
    {
      "cell_type": "code",
      "execution_count": 10,
      "metadata": {
        "id": "s806iFXc6m64"
      },
      "outputs": [],
      "source": [
        "from collections import defaultdict\n",
        "path1 = 'drive/MyDrive/Colab Notebooks/nlptutorial/data/wiki-en-train.word'\n",
        "#path2 = "
      ]
    },
    {
      "cell_type": "code",
      "source": [
        "cnt = defaultdict(lambda: 1)\n",
        "total_cnt = 0\n",
        "f1 = open(path1)\n",
        "\n",
        "for line in f1:\n",
        "  words = line.split(\" \")\n",
        "  words.append(\"</s>\")\n",
        "  for word in words:\n",
        "    if word in cnt.keys():\n",
        "      cnt[word] += 1\n",
        "    else:\n",
        "      cnt[word] = 1\n",
        "    total_cnt += 1"
      ],
      "metadata": {
        "id": "tIO4hIUJLjBa"
      },
      "execution_count": 11,
      "outputs": []
    },
    {
      "cell_type": "code",
      "source": [
        "f2 = open('drive/MyDrive/Colab Notebooks/nlp01/model_file.txt', 'a')\n",
        "\n",
        "for word, e_cnt in cnt.items():\n",
        "  prob = e_cnt / total_cnt\n",
        "  f2.write(\"%s %r\\n\" % (word, prob))\n",
        "\n",
        "\n",
        "f1.close()\n",
        "f2.close()"
      ],
      "metadata": {
        "id": "NjPepNghTj28"
      },
      "execution_count": 12,
      "outputs": []
    }
  ]
}