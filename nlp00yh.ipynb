{
  "nbformat": 4,
  "nbformat_minor": 0,
  "metadata": {
    "colab": {
      "name": "nlp00yh.ipynb",
      "provenance": [],
      "collapsed_sections": [],
      "mount_file_id": "14gUR-d8RmeE_Xzq_EPtICyDrO-5Dn2dT",
      "authorship_tag": "ABX9TyO/2M0koQGVDU/aaT8TEtkT",
      "include_colab_link": true
    },
    "kernelspec": {
      "name": "python3",
      "display_name": "Python 3"
    },
    "language_info": {
      "name": "python"
    }
  },
  "cells": [
    {
      "cell_type": "markdown",
      "metadata": {
        "id": "view-in-github",
        "colab_type": "text"
      },
      "source": [
        "<a href=\"https://colab.research.google.com/github/hiranoyu0830/nlp_tutorial_implimentation/blob/main/nlp00yh.ipynb\" target=\"_parent\"><img src=\"https://colab.research.google.com/assets/colab-badge.svg\" alt=\"Open In Colab\"/></a>"
      ]
    },
    {
      "cell_type": "code",
      "execution_count": null,
      "metadata": {
        "colab": {
          "base_uri": "https://localhost:8080/"
        },
        "id": "W-zpOqVUU0pu",
        "outputId": "b2aa6183-6a60-4d41-e156-3a95e8f58e17"
      },
      "outputs": [
        {
          "output_type": "stream",
          "name": "stdout",
          "text": [
            "Hello World\n"
          ]
        }
      ],
      "source": [
        "print(\"Hello World\")"
      ]
    },
    {
      "cell_type": "code",
      "source": [
        "my_int = 4\n",
        "my_float = 2.5\n",
        "my_string = \"hello\"\n",
        "print(\"string: %s\\tfloat: %f\\tint: %d\" % (my_string, my_int, my_int))"
      ],
      "metadata": {
        "colab": {
          "base_uri": "https://localhost:8080/"
        },
        "id": "EmPKk3B1VdpM",
        "outputId": "9c9ec41e-c865-4d94-f29c-3a56e63c121d"
      },
      "execution_count": null,
      "outputs": [
        {
          "output_type": "stream",
          "name": "stdout",
          "text": [
            "string: hello\tfloat: 4.000000\tint: 4\n"
          ]
        }
      ]
    },
    {
      "cell_type": "code",
      "source": [
        "#dict(map)\n",
        "my_dict = {\"alan\": 22, \"bill\": 45, \"chris\": 17}\n",
        "my_dict[\"eric\"] = 33\n",
        "\n",
        "print(len(my_dict))\n",
        "print(my_dict[\"chris\"])\n",
        "\n",
        "for foo, bar in sorted(my_dict.items()): #キー順\n",
        "  print(\"%s --> %r\" % (foo, bar))"
      ],
      "metadata": {
        "colab": {
          "base_uri": "https://localhost:8080/"
        },
        "id": "FlLg6BAHV_UV",
        "outputId": "971b96db-0d85-45bd-936b-f12d3a513f7b"
      },
      "execution_count": null,
      "outputs": [
        {
          "output_type": "stream",
          "name": "stdout",
          "text": [
            "4\n",
            "17\n",
            "alan --> 22\n",
            "bill --> 45\n",
            "chris --> 17\n",
            "eric --> 33\n"
          ]
        }
      ]
    },
    {
      "cell_type": "code",
      "source": [
        "from collections import defaultdict\n",
        "\n",
        "my_dict = defaultdict(lambda: 0)\n",
        "my_dict[\"eric\"] = 33\n",
        "\n",
        "print(my_dict[\"eric\"])\n",
        "print(my_dict[\"fred\"]) #0\n",
        "\n",
        "for foo, bar in sorted(my_dict.items()): #キー順\n",
        "  print(\"%s --> %r\" % (foo, bar))"
      ],
      "metadata": {
        "colab": {
          "base_uri": "https://localhost:8080/"
        },
        "id": "GYnFOiAMXBfn",
        "outputId": "900efbce-84af-486e-ba42-60b259e102d8"
      },
      "execution_count": null,
      "outputs": [
        {
          "output_type": "stream",
          "name": "stdout",
          "text": [
            "33\n",
            "0\n",
            "eric --> 33\n",
            "fred --> 0\n"
          ]
        }
      ]
    },
    {
      "cell_type": "code",
      "source": [
        "!cd drive/MyDrive/\n"
      ],
      "metadata": {
        "id": "txPTf3T7IG6w"
      },
      "execution_count": null,
      "outputs": []
    },
    {
      "cell_type": "code",
      "source": [
        "#read files\n",
        "import sys\n",
        "my_file  = open(sys.argv[1], \"r\")\n",
        "\n",
        "for line in my_file:\n",
        "  line = line.strip()\n",
        "  if len(line) != 0:\n",
        "    print(line)\n"
      ],
      "metadata": {
        "colab": {
          "base_uri": "https://localhost:8080/",
          "height": 245
        },
        "id": "a1AjU0nxZA4d",
        "outputId": "ced2981e-4721-4b2d-9897-4cf7567893b3"
      },
      "execution_count": null,
      "outputs": [
        {
          "output_type": "error",
          "ename": "FileNotFoundError",
          "evalue": "ignored",
          "traceback": [
            "\u001b[0;31m---------------------------------------------------------------------------\u001b[0m",
            "\u001b[0;31mFileNotFoundError\u001b[0m                         Traceback (most recent call last)",
            "\u001b[0;32m<ipython-input-26-8daea61e22af>\u001b[0m in \u001b[0;36m<module>\u001b[0;34m()\u001b[0m\n\u001b[1;32m      1\u001b[0m \u001b[0;31m#read files\u001b[0m\u001b[0;34m\u001b[0m\u001b[0;34m\u001b[0m\u001b[0;34m\u001b[0m\u001b[0m\n\u001b[1;32m      2\u001b[0m \u001b[0;32mimport\u001b[0m \u001b[0msys\u001b[0m\u001b[0;34m\u001b[0m\u001b[0;34m\u001b[0m\u001b[0m\n\u001b[0;32m----> 3\u001b[0;31m \u001b[0mmy_file\u001b[0m  \u001b[0;34m=\u001b[0m \u001b[0mopen\u001b[0m\u001b[0;34m(\u001b[0m\u001b[0msys\u001b[0m\u001b[0;34m.\u001b[0m\u001b[0margv\u001b[0m\u001b[0;34m[\u001b[0m\u001b[0;36m1\u001b[0m\u001b[0;34m]\u001b[0m\u001b[0;34m,\u001b[0m \u001b[0;34m\"r\"\u001b[0m\u001b[0;34m)\u001b[0m\u001b[0;34m\u001b[0m\u001b[0;34m\u001b[0m\u001b[0m\n\u001b[0m\u001b[1;32m      4\u001b[0m \u001b[0;34m\u001b[0m\u001b[0m\n\u001b[1;32m      5\u001b[0m \u001b[0;32mfor\u001b[0m \u001b[0mline\u001b[0m \u001b[0;32min\u001b[0m \u001b[0mmy_file\u001b[0m\u001b[0;34m:\u001b[0m\u001b[0;34m\u001b[0m\u001b[0;34m\u001b[0m\u001b[0m\n",
            "\u001b[0;31mFileNotFoundError\u001b[0m: [Errno 2] No such file or directory: '-f'"
          ]
        }
      ]
    }
  ]
}