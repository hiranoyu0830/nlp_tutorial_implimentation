{
  "nbformat": 4,
  "nbformat_minor": 0,
  "metadata": {
    "colab": {
      "name": "02train-bigram.ipynb",
      "provenance": [],
      "collapsed_sections": [],
      "mount_file_id": "18p4N4PWUFvAKpHcc-hDt9Ljl0ecyFGfK",
      "authorship_tag": "ABX9TyPQ5yjRsQddhUarlz0EuV0g",
      "include_colab_link": true
    },
    "kernelspec": {
      "name": "python3",
      "display_name": "Python 3"
    },
    "language_info": {
      "name": "python"
    }
  },
  "cells": [
    {
      "cell_type": "markdown",
      "metadata": {
        "id": "view-in-github",
        "colab_type": "text"
      },
      "source": [
        "<a href=\"https://colab.research.google.com/github/hiranoyu0830/nlp_tutorial_implimentation/blob/main/02train_bigram.ipynb\" target=\"_parent\"><img src=\"https://colab.research.google.com/assets/colab-badge.svg\" alt=\"Open In Colab\"/></a>"
      ]
    },
    {
      "cell_type": "code",
      "execution_count": 158,
      "metadata": {
        "id": "rqjNF4KA2Z7B"
      },
      "outputs": [],
      "source": [
        "from collections import defaultdict\n",
        "\n",
        "path1 = 'drive/MyDrive/Colab Notebooks/nlptutorial/data/wiki-en-train.word'\n",
        "path2 = 'drive/MyDrive/Colab Notebooks/nlp02/model_file2.txt'\n",
        "training_file = open(path1)"
      ]
    },
    {
      "cell_type": "code",
      "source": [
        "cnts = defaultdict(lambda: 1)\n",
        "context_cnts = defaultdict(lambda: 1)\n",
        "\n",
        "for line in training_file:\n",
        "  words = line.split(\" \")\n",
        "  words.append(\"</s>\")\n",
        "  words.insert(0, \"<s>\")\n",
        "  \n",
        "\n",
        "  for i in range(1,len(words)):\n",
        "    \n",
        "    tmp = words[i-1]+ \" \" + words[i]\n",
        "    if tmp in cnts.keys():\n",
        "      cnts[tmp] += 1\n",
        "    else:\n",
        "      cnts[tmp] = 1\n",
        "\n",
        "    if words[i-1] in context_cnts.keys():\n",
        "      context_cnts[words[i-1]] += 1\n",
        "    else:\n",
        "      context_cnts[words[i-1]] = 1\n",
        "    \n",
        "    if words[i] in cnts.keys():\n",
        "      cnts[words[i]] += 1\n",
        "    else:\n",
        "      cnts[words[i]] = 1\n",
        "\n",
        "    if \"\" in context_cnts.keys():\n",
        "      context_cnts[\"\"] += 1\n",
        "    else:\n",
        "      context_cnts[\"\"] = 1\n"
      ],
      "metadata": {
        "id": "_RlrBvdHBLS_"
      },
      "execution_count": 159,
      "outputs": []
    },
    {
      "cell_type": "code",
      "source": [
        "f2 = open(path2, 'a')\n",
        "for ngram, cnt in cnts.items():\n",
        "  words = ngram.split(\" \")\n",
        "  words = words[:-1]\n",
        "  \n",
        "  context = \"\".join(words)\n",
        "  #print(context)\n",
        "  prob = cnts[ngram] / context_cnts[context]\n",
        "  f2.write(\"%s %r\\n\"% (ngram, prob))\n",
        "#print(context_cnts[\"<s>\"])"
      ],
      "metadata": {
        "id": "7CO4OWliH_Lr"
      },
      "execution_count": null,
      "outputs": []
    },
    {
      "cell_type": "code",
      "source": [
        "training_file.close()\n",
        "f2.close()"
      ],
      "metadata": {
        "id": "bpMWON2YRqeC"
      },
      "execution_count": 161,
      "outputs": []
    }
  ]
}